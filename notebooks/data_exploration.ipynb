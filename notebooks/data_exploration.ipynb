{
 "cells": [
  {
   "cell_type": "code",
   "execution_count": 1,
   "metadata": {},
   "outputs": [],
   "source": [
    "import pandas as pd\n",
    "from sklearn.preprocessing import LabelEncoder\n",
    "import os"
   ]
  },
  {
   "cell_type": "code",
   "execution_count": 5,
   "metadata": {},
   "outputs": [],
   "source": [
    "def read_ratings(ratings_csv, data_dir=\"../data/raw\", original=True) -> pd.DataFrame:\n",
    "    \"\"\"\n",
    "    Reads a ratings.csv from the data/raw folder.\n",
    "\n",
    "    Parameters\n",
    "    -------\n",
    "    ratings_csv : str\n",
    "        The csv file that will be read. Must be corresponding to a rating file.\n",
    "\n",
    "    Returns\n",
    "    -------\n",
    "    pd.DataFrame\n",
    "        The ratings DataFrame. Its columns are, in order:\n",
    "        \"userId\", \"movieId\", \"rating\" and \"timestamp\".\n",
    "    \"\"\"\n",
    "    data = pd.read_csv(os.path.join(data_dir, ratings_csv))\n",
    "    \n",
    "    # Je pense que c'est une erreure dans le code\n",
    "    if original:\n",
    "        temp = pd.DataFrame(LabelEncoder().fit_transform(data[\"movieId\"]))\n",
    "        data[\"movieId\"] = temp\n",
    "    return data\n",
    "\n",
    "def read_movies(movies_csv, data_dir=\"../data/raw\") -> pd.DataFrame:\n",
    "    \"\"\"\n",
    "    Reads a movies.csv from the data/raw folder.\n",
    "\n",
    "    Parameters\n",
    "    -------\n",
    "    movies_csv : str\n",
    "        The csv file that will be read. Must be corresponding to a movie file.\n",
    "\n",
    "    Returns\n",
    "    -------\n",
    "    pd.DataFrame\n",
    "        The movies DataFrame. Its columns are binary and represent the movie genres.\n",
    "    \"\"\"\n",
    "    # Read the CSV file\n",
    "    df = pd.read_csv(os.path.join(data_dir, movies_csv))\n",
    "\n",
    "    # Split the 'genres' column into individual genres\n",
    "    genres = df[\"genres\"].str.get_dummies(sep=\"|\")\n",
    "\n",
    "    # Concatenate the original movieId and title columns with the binary genre columns\n",
    "    result_df = pd.concat([df[[\"movieId\", \"title\"]], genres], axis=1)\n",
    "    return result_df"
   ]
  },
  {
   "cell_type": "code",
   "execution_count": 7,
   "metadata": {},
   "outputs": [],
   "source": [
    "user_ratings= read_ratings(\"ratings.csv\", original = False)\n",
    "movies = read_movies(\"movies.csv\")\n",
    "user_ratings = user_ratings[user_ratings[\"rating\"]>=4]"
   ]
  },
  {
   "cell_type": "code",
   "execution_count": 8,
   "metadata": {},
   "outputs": [
    {
     "data": {
      "text/plain": [
       "userId\n",
       "66596        1\n",
       "53274        1\n",
       "32451        1\n",
       "27120        1\n",
       "93335        1\n",
       "          ... \n",
       "131894    2349\n",
       "118205    2377\n",
       "8405      2503\n",
       "82418     2655\n",
       "125794    3177\n",
       "Length: 138287, dtype: int64"
      ]
     },
     "execution_count": 8,
     "metadata": {},
     "output_type": "execute_result"
    }
   ],
   "source": [
    "movie_ratings_modified = user_ratings.merge(movies, on=\"movieId\", how=\"inner\")\n",
    "\n",
    "movie_ratings_modified.groupby(\"userId\").size().sort_values()"
   ]
  },
  {
   "cell_type": "code",
   "execution_count": 10,
   "metadata": {},
   "outputs": [
    {
     "data": {
      "text/plain": [
       "userId\n",
       "17566        5\n",
       "44769        5\n",
       "123722       5\n",
       "111773       5\n",
       "36078        5\n",
       "          ... \n",
       "131894    2349\n",
       "118205    2377\n",
       "8405      2503\n",
       "82418     2655\n",
       "125794    3177\n",
       "Length: 136677, dtype: int64"
      ]
     },
     "execution_count": 10,
     "metadata": {},
     "output_type": "execute_result"
    }
   ],
   "source": [
    "liked_counts = user_ratings.groupby(\"userId\").size()\n",
    "active_users = liked_counts[liked_counts >= 5].index\n",
    "user_ratings=user_ratings[user_ratings[\"userId\"].isin(active_users)]\n",
    "\n",
    "movie_ratings_modified = user_ratings.merge(movies, on=\"movieId\", how=\"inner\")\n",
    "\n",
    "movie_ratings_modified.groupby(\"userId\").size().sort_values()"
   ]
  },
  {
   "cell_type": "code",
   "execution_count": null,
   "metadata": {},
   "outputs": [],
   "source": [
    "user_ratings= read_ratings(\"ratings.csv\")\n",
    "movies = read_movies(\"movies.csv\")\n",
    "\n",
    "movie_ratings_modified = user_ratings.merge(movies, on=\"movieId\", how=\"inner\")\n",
    "\n",
    "movie_ratings_modified.groupby(\"userId\").size().sort_values()"
   ]
  },
  {
   "cell_type": "code",
   "execution_count": null,
   "metadata": {},
   "outputs": [],
   "source": [
    "user_ratings.groupby(\"userId\").size().sort_values()"
   ]
  },
  {
   "cell_type": "code",
   "execution_count": null,
   "metadata": {},
   "outputs": [],
   "source": [
    "movie_ratings[movie_ratings[\"userId\"]==1].sort_values(\"rating\")"
   ]
  },
  {
   "cell_type": "code",
   "execution_count": null,
   "metadata": {},
   "outputs": [],
   "source": [
    "user_matrix = movie_ratings.groupby(\"userId\").agg(\n",
    "    \"mean\",\n",
    ")\n",
    "display(user_matrix)"
   ]
  },
  {
   "cell_type": "code",
   "execution_count": null,
   "metadata": {},
   "outputs": [],
   "source": [
    "user_ratings = read_ratings(\"ratings.csv\")\n",
    "movies = read_movies(\"movies.csv\")\n",
    "user_matrix = create_user_matrix(user_ratings, movies)\n",
    "movies = movies.drop(\"title\", axis=1)\n",
    "movies.to_csv(\"data/processed/movie_matrix.csv\", index=False)\n",
    "user_matrix.to_csv(\"data/processed/user_matrix.csv\")\n"
   ]
  }
 ],
 "metadata": {
  "kernelspec": {
   "display_name": "base",
   "language": "python",
   "name": "python3"
  },
  "language_info": {
   "codemirror_mode": {
    "name": "ipython",
    "version": 3
   },
   "file_extension": ".py",
   "mimetype": "text/x-python",
   "name": "python",
   "nbconvert_exporter": "python",
   "pygments_lexer": "ipython3",
   "version": "3.11.7"
  }
 },
 "nbformat": 4,
 "nbformat_minor": 2
}
